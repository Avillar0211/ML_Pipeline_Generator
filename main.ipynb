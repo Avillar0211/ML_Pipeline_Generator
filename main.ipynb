{
 "cells": [
  {
   "cell_type": "code",
   "execution_count": 3,
   "metadata": {},
   "outputs": [],
   "source": [
    "from Data_Collector import data_collector\n",
    "\n",
    "c = data_collector()\n",
    "arr = ['action.csv', 'adventure.json', 'crime.xlsx', 'family.html', 'fantasy.json', 'film-noir.csv', 'history.xlsx', 'horror.json', 'mystery.csv', 'scifi.xlsx', 'sports.json', 'thriller.csv', 'war.html']\n",
    "res = c.mergeDataSources(arr)\n",
    "\n",
    "with open('salidafusion.csv', 'w', encoding=\"utf-8\") as output_file:\n",
    "    output_file.write(res.to_csv())\n",
    "\n"
   ]
  }
 ],
 "metadata": {
  "kernelspec": {
   "display_name": "Python 3",
   "language": "python",
   "name": "python3"
  },
  "language_info": {
   "codemirror_mode": {
    "name": "ipython",
    "version": 3
   },
   "file_extension": ".py",
   "mimetype": "text/x-python",
   "name": "python",
   "nbconvert_exporter": "python",
   "pygments_lexer": "ipython3",
   "version": "3.9.13"
  },
  "orig_nbformat": 4,
  "vscode": {
   "interpreter": {
    "hash": "53c8ad806e1bd4862ebf8d8f78e3b818b79db82429662f18dd6a96089a97815f"
   }
  }
 },
 "nbformat": 4,
 "nbformat_minor": 2
}
