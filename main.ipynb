{
 "cells": [
  {
   "cell_type": "code",
   "execution_count": 1,
   "metadata": {},
   "outputs": [],
   "source": [
    "from Data_Collector import data_collector\n",
    "from Data_Processor import data_processor\n",
    "\n",
    "c = data_collector()\n",
    "arr = ['adventure.json', 'action.csv', 'crime.xlsx']\n",
    "res = c.mergeDataSources(arr)\n",
    "\n",
    "with open('salidafusion.csv', 'w', encoding=\"utf-8\") as output_file:\n",
    "    output_file.write(res.to_csv())\n",
    "\n"
   ]
  },
  {
   "cell_type": "code",
   "execution_count": 2,
   "metadata": {},
   "outputs": [
    {
     "name": "stdout",
     "output_type": "stream",
     "text": [
      "Formato no compatible\n"
     ]
    },
    {
     "ename": "AttributeError",
     "evalue": "'NoneType' object has no attribute 'empty'",
     "output_type": "error",
     "traceback": [
      "\u001b[1;31m---------------------------------------------------------------------------\u001b[0m",
      "\u001b[1;31mAttributeError\u001b[0m                            Traceback (most recent call last)",
      "Cell \u001b[1;32mIn[2], line 5\u001b[0m\n\u001b[0;32m      3\u001b[0m c \u001b[39m=\u001b[39m data_collector()\n\u001b[0;32m      4\u001b[0m arr \u001b[39m=\u001b[39m [\u001b[39m'\u001b[39m\u001b[39mfamily.html\u001b[39m\u001b[39m'\u001b[39m]\n\u001b[1;32m----> 5\u001b[0m res \u001b[39m=\u001b[39m c\u001b[39m.\u001b[39;49mmergeDataSources(arr)\n\u001b[0;32m      7\u001b[0m \u001b[39mif\u001b[39;00m (res \u001b[39m!=\u001b[39m \u001b[39mNone\u001b[39;00m):\n\u001b[0;32m      8\u001b[0m     \u001b[39mwith\u001b[39;00m \u001b[39mopen\u001b[39m(\u001b[39m'\u001b[39m\u001b[39msalidafusion.csv\u001b[39m\u001b[39m'\u001b[39m, \u001b[39m'\u001b[39m\u001b[39mw\u001b[39m\u001b[39m'\u001b[39m, encoding\u001b[39m=\u001b[39m\u001b[39m\"\u001b[39m\u001b[39mutf-8\u001b[39m\u001b[39m\"\u001b[39m) \u001b[39mas\u001b[39;00m output_file:\n",
      "File \u001b[1;32mc:\\Users\\villa\\Documents\\Adrian\\TFG\\Data_Collector.py:13\u001b[0m, in \u001b[0;36mdata_collector.mergeDataSources\u001b[1;34m(self, files)\u001b[0m\n\u001b[0;32m     11\u001b[0m \u001b[39mfor\u001b[39;00m file \u001b[39min\u001b[39;00m files:\n\u001b[0;32m     12\u001b[0m     dfaux \u001b[39m=\u001b[39m \u001b[39mself\u001b[39m\u001b[39m.\u001b[39mdata_collector\u001b[39m.\u001b[39mframe(file)\n\u001b[1;32m---> 13\u001b[0m     \u001b[39mif\u001b[39;00m(\u001b[39mnot\u001b[39;00m dfaux\u001b[39m.\u001b[39;49mempty):\n\u001b[0;32m     14\u001b[0m         array\u001b[39m.\u001b[39mappend(dfaux)\n\u001b[0;32m     15\u001b[0m \u001b[39mif\u001b[39;00m (array \u001b[39m!=\u001b[39m []):\n",
      "\u001b[1;31mAttributeError\u001b[0m: 'NoneType' object has no attribute 'empty'"
     ]
    }
   ],
   "source": [
    "from Data_Collector import data_collector\n",
    "\n",
    "c = data_collector()\n",
    "arr = ['family.html']\n",
    "res = c.mergeDataSources(arr)\n",
    "\n",
    "if (res != None):\n",
    "    with open('salidafusion.csv', 'w', encoding=\"utf-8\") as output_file:\n",
    "        output_file.write(res.to_csv())"
   ]
  },
  {
   "cell_type": "code",
   "execution_count": 1,
   "metadata": {},
   "outputs": [
    {
     "name": "stdout",
     "output_type": "stream",
     "text": [
      "El formato .html ha sido añadido\n"
     ]
    }
   ],
   "source": [
    "from Data_Collector import data_collector\n",
    "from Formatos.HTMLDataCollector import ClassHTMLDataCollector\n",
    "\n",
    "aux = ClassHTMLDataCollector()\n",
    "\n",
    "c = data_collector()\n",
    "c.addFormat('.html', aux)\n",
    "arr = ['family.html']\n",
    "res = c.mergeDataSources(arr)\n",
    "\n",
    "if (not res.empty):\n",
    "    with open('salidafusion.csv', 'w', encoding=\"utf-8\") as output_file:\n",
    "        output_file.write(res.to_csv())"
   ]
  },
  {
   "cell_type": "code",
   "execution_count": 20,
   "metadata": {},
   "outputs": [
    {
     "name": "stdout",
     "output_type": "stream",
     "text": [
      "Old data frame length: 25546\n",
      "New data frame length: 18008\n",
      "Number of rows with at least 1 NA value:  7538\n",
      "Old data frame length: 25546\n",
      "New data frame length: 25536\n",
      "Number of rows with at least 1 NA value:  10\n"
     ]
    },
    {
     "name": "stderr",
     "output_type": "stream",
     "text": [
      "C:\\Users\\villa\\AppData\\Local\\Temp\\ipykernel_4828\\2601350732.py:26: SettingWithCopyWarning: \n",
      "A value is trying to be set on a copy of a slice from a DataFrame\n",
      "\n",
      "See the caveats in the documentation: https://pandas.pydata.org/pandas-docs/stable/user_guide/indexing.html#returning-a-view-versus-a-copy\n",
      "  new_res2[x].fillna(mitjana, inplace=True)\n"
     ]
    }
   ],
   "source": [
    "from Data_Collector import data_collector\n",
    "import pandas\n",
    "import numpy\n",
    "\n",
    "c = data_collector()\n",
    "arr = ['contaminación_cortado.csv']\n",
    "res = c.mergeDataSources(arr)\n",
    "\n",
    "new_res = res.dropna(axis = 0, how ='any') \n",
    "\n",
    "print(\"Old data frame length:\", len(res))\n",
    "print(\"New data frame length:\", len(new_res)) \n",
    "print(\"Number of rows with at least 1 NA value: \", (len(res)-len(new_res)))\n",
    "\n",
    "new_res2 = res.drop_duplicates()\n",
    "\n",
    "print(\"Old data frame length:\", len(res))\n",
    "print(\"New data frame length:\", len(new_res2)) \n",
    "print(\"Number of rows with at least 1 NA value: \", (len(res)-len(new_res2)))\n",
    "\n",
    "aux = []\n",
    "aux = new_res2.select_dtypes(include=numpy.number).columns.tolist()\n",
    "\n",
    "for x in aux:\n",
    "    mitjana = new_res2[x].mean()\n",
    "    new_res2[x].fillna(mitjana, inplace=True)\n",
    "\n",
    "with open('salidaprocessor.csv', 'w', encoding=\"utf-8\") as output_file:\n",
    "    output_file.write(new_res2.to_csv())\n",
    "\n",
    "for x in aux:\n",
    "    mitjana = new_res2[x].mean()\n",
    "    desviacion = new_res2[x].std()\n",
    "    min = mitjana - desviacion*5\n",
    "    max = mitjana + desviacion*5\n",
    "    new_res2.loc[new_res2[x] < min, x] = mitjana\n",
    "    new_res2.loc[new_res2[x] > max, x] = mitjana\n",
    "\n",
    "with open('salidaprocessor2.csv', 'w', encoding=\"utf-8\") as output_file:\n",
    "    output_file.write(new_res2.to_csv())\n"
   ]
  },
  {
   "cell_type": "code",
   "execution_count": 31,
   "metadata": {},
   "outputs": [],
   "source": [
    "from Data_Collector import data_collector\n",
    "from Single_Data_Processor_Unico import single_data_collector\n",
    "import pandas\n",
    "import numpy\n",
    "\n",
    "c = data_collector()\n",
    "d = single_data_collector()\n",
    "arr = ['contaminación_cortado.csv']\n",
    "res = c.mergeDataSources(arr)\n",
    "\n",
    "#new_res = d.eliminar_nulls(res)\n",
    "\n",
    "#print(\"Old data frame length:\", len(res))\n",
    "#print(\"New data frame length:\", len(new_res)) \n",
    "#print(\"Number of rows with at least 1 NA value: \", (len(res)-len(new_res)))\n",
    "\n",
    "new_res = d.eliminar_duplicados(res)\n",
    "\n",
    "#print(\"Old data frame length:\", len(res))\n",
    "#print(\"New data frame length:\", len(new_res2)) \n",
    "#print(\"Number of rows with at least 1 NA value: \", (len(res)-len(new_res2)))\n",
    "\n",
    "#with open('salidaprocessor.csv', 'w', encoding=\"utf-8\") as output_file:\n",
    "    #output_file.write(new_res2.to_csv())\n",
    "\n",
    "def eliminar_outlier(dataFrame):\n",
    "    aux = []\n",
    "    aux = dataFrame.select_dtypes(include=numpy.number).columns.tolist()\n",
    "\n",
    "    for x in aux:\n",
    "        mitjana = dataFrame[x].mean()\n",
    "        desviacion = dataFrame[x].std()\n",
    "        min = mitjana - desviacion*5\n",
    "        max = mitjana + desviacion*5\n",
    "        dataFrame.loc[dataFrame[x] < min, x] = mitjana\n",
    "        dataFrame.loc[dataFrame[x] > max, x] = mitjana\n",
    "\n",
    "    return dataFrame\n",
    "\n",
    "d.añadir_metodo(\"eliminar_outliers\", eliminar_outlier)\n",
    "\n",
    "new_res2 = d.eliminar_outliers(new_res)\n",
    "\n",
    "with open('salidaprocessor2.csv', 'w', encoding=\"utf-8\") as output_file:\n",
    "    output_file.write(new_res2.to_csv())"
   ]
  },
  {
   "cell_type": "code",
   "execution_count": 3,
   "metadata": {},
   "outputs": [
    {
     "name": "stdout",
     "output_type": "stream",
     "text": [
      "El proceso eliminar_outliers ha sido añadido\n"
     ]
    }
   ],
   "source": [
    "from Data_Collector import data_collector\n",
    "from Data_Processor import data_processor\n",
    "import pandas\n",
    "import numpy\n",
    "\n",
    "c = data_collector()\n",
    "d = data_processor()\n",
    "arr = ['contaminación_cortado.csv']\n",
    "res = c.mergeDataSources(arr)\n",
    "\n",
    "procesos = [\"eliminar_duplicados\"]\n",
    "new_res = d.data_processing(procesos, res)\n",
    "\n",
    "#print(\"Old data frame length:\", len(res))\n",
    "#print(\"New data frame length:\", len(new_res2)) \n",
    "#print(\"Number of rows with at least 1 NA value: \", (len(res)-len(new_res2)))\n",
    "\n",
    "#with open('salidaprocessor.csv', 'w', encoding=\"utf-8\") as output_file:\n",
    "    #output_file.write(new_res2.to_csv())\n",
    "\n",
    "def eliminar_outlier(dataFrame):\n",
    "    aux = []\n",
    "    aux = dataFrame.select_dtypes(include=numpy.number).columns.tolist()\n",
    "\n",
    "    for x in aux:\n",
    "        mitjana = dataFrame[x].mean()\n",
    "        desviacion = dataFrame[x].std()\n",
    "        min = mitjana - desviacion*5\n",
    "        max = mitjana + desviacion*5\n",
    "        dataFrame.loc[dataFrame[x] < min, x] = mitjana\n",
    "        dataFrame.loc[dataFrame[x] > max, x] = mitjana\n",
    "\n",
    "    return dataFrame\n",
    "\n",
    "d.addProcess(\"eliminar_outliers\", eliminar_outlier)\n",
    "\n",
    "procesos = [\"eliminar_outliers\"]\n",
    "new_res2 = d.data_processing(procesos, new_res)\n",
    "\n",
    "with open('salidaprocessor2.csv', 'w', encoding=\"utf-8\") as output_file:\n",
    "    output_file.write(new_res2.to_csv())"
   ]
  }
 ],
 "metadata": {
  "kernelspec": {
   "display_name": "Python 3",
   "language": "python",
   "name": "python3"
  },
  "language_info": {
   "codemirror_mode": {
    "name": "ipython",
    "version": 3
   },
   "file_extension": ".py",
   "mimetype": "text/x-python",
   "name": "python",
   "nbconvert_exporter": "python",
   "pygments_lexer": "ipython3",
   "version": "3.9.13"
  },
  "orig_nbformat": 4,
  "vscode": {
   "interpreter": {
    "hash": "53c8ad806e1bd4862ebf8d8f78e3b818b79db82429662f18dd6a96089a97815f"
   }
  }
 },
 "nbformat": 4,
 "nbformat_minor": 2
}
